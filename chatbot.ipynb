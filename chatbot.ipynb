{
  "cells": [
    {
      "cell_type": "markdown",
      "metadata": {
        "id": "view-in-github",
        "colab_type": "text"
      },
      "source": [
        "<a href=\"https://colab.research.google.com/github/shahanakarthikeyan/shahanaramkumar/blob/main/chatbot.ipynb\" target=\"_parent\"><img src=\"https://colab.research.google.com/assets/colab-badge.svg\" alt=\"Open In Colab\"/></a>"
      ]
    },
    {
      "cell_type": "markdown",
      "metadata": {
        "id": "31dKfAavj0tN"
      },
      "source": [
        "Name : K.Shahana"
      ]
    },
    {
      "cell_type": "markdown",
      "metadata": {
        "id": "pwBdOZ0Tj6n-"
      },
      "source": [
        "Dept: AI & DS"
      ]
    },
    {
      "cell_type": "markdown",
      "metadata": {
        "id": "PYy05DqIj9QT"
      },
      "source": [
        "Task Name : CHATBOT WITH RULE-BASED RESPONSES"
      ]
    },
    {
      "cell_type": "code",
      "execution_count": null,
      "metadata": {
        "colab": {
          "base_uri": "https://localhost:8080/"
        },
        "id": "W2DWaUgGjgp9",
        "outputId": "2041161d-0cc9-43fd-bf24-a74549202cdc"
      },
      "outputs": [
        {
          "metadata": {
            "tags": null
          },
          "name": "stdout",
          "output_type": "stream",
          "text": [
            "Hello! How can I assist you.\n",
            "Chatbot: I'm here to help with your Questions\n",
            "Chatbot: Keep pushing forward, even when it gets tough. Success is the result of hard work, persistence, and resilience.\n",
            "Chatbot: My advice is to always keep learning and stay curious. The more you know, the more you grow!\n",
            "Chatbot: AI, or Artificial Intelligence, is the simulation of human intelligence in machines that are programmed to think and learn.\n",
            "Chatbot: Data Science is the field of study that combines domain expertise, programming, and statistics to extract meaningful insights from data.\n",
            "Chatbot: Goodbye! Have a great day!\n"
          ]
        }
      ],
      "source": [
        "\n",
        "def chatbot_response(user_input):\n",
        "    user_input = user_input.lower()\n",
        "\n",
        "    if \"what is ai\" in user_input or \"what is artificial intelligence\" in user_input:\n",
        "        return \"AI, or Artificial Intelligence, is the simulation of human intelligence in machines that are programmed to think and learn.\"\n",
        "\n",
        "    elif \"what is data science\" in user_input:\n",
        "        return \"Data Science is the field of study that combines domain expertise, programming, and statistics to extract meaningful insights from data.\"\n",
        "\n",
        "    elif \"give me one quote\" in user_input:\n",
        "        return \"Here's a quote for you: 'The only way to do great work is to love what you do.' - Steve Jobs\"\n",
        "\n",
        "    elif \"give me one joke\" in user_input:\n",
        "        return \"Why did the math book look sad? Because it had too many problems!\"\n",
        "\n",
        "    elif \"advice me\" in user_input:\n",
        "        return \"My advice is to always keep learning and stay curious. The more you know, the more you grow!\"\n",
        "\n",
        "    elif \"motivate me\" in user_input or \"motivation\" in user_input:\n",
        "        return \"Keep pushing forward, even when it gets tough. Success is the result of hard work, persistence, and resilience.\"\n",
        "\n",
        "    elif \"bye\" in user_input or \"goodbye\" in user_input:\n",
        "        return \"Goodbye! Have a great day!\"\n",
        "\n",
        "    else:\n",
        "        return \"I'm here to help with your Questions\"\n",
        "\n",
        "print(\"Hello! How can I assist you.\")\n",
        "\n",
        "while True:\n",
        "\n",
        "    user_input = input(\"You: \")\n",
        "\n",
        "\n",
        "    if user_input.lower() == 'exit':\n",
        "        print(\"Chatbot: Goodbye! Have a great day!\")\n",
        "        break\n",
        "\n",
        "    response = chatbot_response(user_input)\n",
        "    print(\"Chatbot:\", response)\n"
      ]
    },
    {
      "cell_type": "code",
      "execution_count": null,
      "metadata": {
        "id": "2RkuzKQCmqCy"
      },
      "outputs": [],
      "source": []
    }
  ],
  "metadata": {
    "colab": {
      "provenance": [],
      "authorship_tag": "ABX9TyORXjKeMXag8TFpzIDeaJjm",
      "include_colab_link": true
    },
    "kernelspec": {
      "display_name": "Python 3",
      "name": "python3"
    },
    "language_info": {
      "name": "python"
    }
  },
  "nbformat": 4,
  "nbformat_minor": 0
}